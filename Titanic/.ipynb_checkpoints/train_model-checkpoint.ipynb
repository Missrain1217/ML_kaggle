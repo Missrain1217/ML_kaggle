{
 "cells": [
  {
   "cell_type": "markdown",
   "metadata": {},
   "source": [
    "# Titanic_train_model"
   ]
  },
  {
   "cell_type": "code",
   "execution_count": null,
   "metadata": {
    "ExecuteTime": {
     "start_time": "2020-04-20T13:26:18.210Z"
    }
   },
   "outputs": [],
   "source": [
    "import pandas as pd\n",
    "import numpy as np\n",
    "from pandas import Series, DataFrame\n",
    "from sklearn.ensemble import RandomForestRegressor\n",
    "import sklearn.preprocessing as preprocessing\n",
    "from sklearn import linear_model\n",
    "\n",
    "\n",
    "data_train = pd.read_csv(\"./train.csv\")\n",
    "data_train\n",
    "\n",
    "\n",
    "def set_missing_ages(df):\n",
    "    age_df = df[[\"Age\", \"Fare\", \"Parch\", \"SibSp\", \"Pclass\"]]\n",
    "    known_age = age_df[age_df.Age.notnull()].as_matrix()\n",
    "    unknown_age = age_df[age_df.Age.isnull()].as_matrix()\n",
    "\n",
    "    y = known_age[:, 1:]\n",
    "    X = known_age[:, 1:]\n",
    "    rfr = RandomForestRegressor(random_state=0, n_estimators=2000, n_jobs=-1)\n",
    "    rfr.fit(X, y)\n",
    "\n",
    "    predictedAges = rfr.predict(unknown_age[:, 1::])\n",
    "    df.loc[ (df.Age.isnull()), 'Age' ] = predictedAges\n",
    "    return df, rfr\n",
    "\n",
    "\n",
    "def set_Cabin_type(df):\n",
    "    df.loc[(df.Cabin.notnull()), \"Cabin\"] = \"Yes\"\n",
    "    df.loc[(df.Cabin.isnull()), \"Cabin\"] = \"No\"\n",
    "    return df\n",
    "\n",
    "\n",
    "data_train, rfr = set_missing_ages(data_train)\n",
    "data_train = set_Cabin_type(data_train)\n",
    "\n",
    "dummies_Cabin = pd.get_dummies(data_train[\"Cabin\"], prefix=\"Cabin\")\n",
    "dummies_Embarked = pd.get_dummies(data_train[\"Embarked\"], prefix=\"Embarked\")\n",
    "dummies_Sex = pd.get_dummies(data_train[\"Sex\"], prefix=\"Sex\")\n",
    "dummies_Pclass = pd.get_dummies(data_train[\"Pclass\"], prefix=\"Pclass\")\n",
    "\n",
    "df = pd.concat(\n",
    "    [data_train, dummies_Cabin, dummies_Embarked, dumies_Sex, dumies_Pclass],\n",
    "    axis=1)\n",
    "df.drop([\"Pclass\", \"Name\", \"Sex\", \"Ticket\", \"Cabin\", \"Embarked\"],\n",
    "        axis=1,\n",
    "        inplace=True)\n",
    "\n",
    "scaler = preprocessing.StandardScaler()\n",
    "train_df = df.filter(\n",
    "    regex=\n",
    "    \"Survive|Age_.*|SibSp|Parch|Fare_.*|Cabin_.*|Embarked_.*|Sex_.*|Pclass_.*\")\n",
    "train_np = train_df.as_matrix()\n",
    "\n",
    "y = train_np[:, 0]\n",
    "X = train_np[:, 1:]\n",
    "\n",
    "clf = linear_model.LogistiRegression(c=1.0, penalty=\"l1\", tol=1e-6)\n",
    "clf.fit(X, y)\n",
    "\n",
    "data_test = pd.read_csv(\"./test.csv\")\n",
    "data_test.loc[(data_test.Fare.isnull()), 'Fare'] = 0\n",
    "# 接着我们对test_data做和train_data中一致的特征变换\n",
    "# 首先用同样的RandomForestRegressor模型填上丢失的年龄\n",
    "tmp_df = data_test[['Age', 'Fare', 'Parch', 'SibSp', 'Pclass']]\n",
    "null_age = tmp_df[data_test.Age.isnull()].as_matrix()\n",
    "# 根据特征属性X预测年龄并补上\n",
    "X = null_age[:, 1:]\n",
    "predictedAges = rfr.predict(X)\n",
    "data_test.loc[(data_test.Age.isnull()), 'Age'] = predictedAges\n",
    "\n",
    "data_test = set_Cabin_type(data_test)\n",
    "dummies_Cabin = pd.get_dummies(data_test['Cabin'], prefix='Cabin')\n",
    "dummies_Embarked = pd.get_dummies(data_test['Embarked'], prefix='Embarked')\n",
    "dummies_Sex = pd.get_dummies(data_test['Sex'], prefix='Sex')\n",
    "dummies_Pclass = pd.get_dummies(data_test['Pclass'], prefix='Pclass')\n",
    "\n",
    "df_test = pd.concat(\n",
    "    [data_test, dummies_Cabin, dummies_Embarked, dummies_Sex, dummies_Pclass],\n",
    "    axis=1)\n",
    "df_test.drop(['Pclass', 'Name', 'Sex', 'Ticket', 'Cabin', 'Embarked'],\n",
    "             axis=1,\n",
    "             inplace=True)\n",
    "\n",
    "test = df_test.filter(\n",
    "    regex='Age_.*|SibSp|Parch|Fare_.*|Cabin_.*|Embarked_.*|Sex_.*|Pclass_.*')\n",
    "predictions = clf.predict(test)\n",
    "result = pd.DataFrame({\n",
    "    'PassengerId': data_test['PassengerId'].as_matrix(),\n",
    "    'Survived': predictions.astype(np.int32)\n",
    "})\n",
    "result.to_csv(\"./logistic_regression_predictions.csv\", index=False)\n"
   ]
  },
  {
   "cell_type": "code",
   "execution_count": null,
   "metadata": {
    "ExecuteTime": {
     "start_time": "2020-04-20T13:40:04.354Z"
    }
   },
   "outputs": [],
   "source": []
  }
 ],
 "metadata": {
  "kernelspec": {
   "display_name": "Python 3",
   "language": "python",
   "name": "python3"
  },
  "language_info": {
   "codemirror_mode": {
    "name": "ipython",
    "version": 3
   },
   "file_extension": ".py",
   "mimetype": "text/x-python",
   "name": "python",
   "nbconvert_exporter": "python",
   "pygments_lexer": "ipython3",
   "version": "3.6.3"
  },
  "toc": {
   "base_numbering": 1,
   "nav_menu": {},
   "number_sections": true,
   "sideBar": true,
   "skip_h1_title": false,
   "title_cell": "Table of Contents",
   "title_sidebar": "Contents",
   "toc_cell": false,
   "toc_position": {},
   "toc_section_display": true,
   "toc_window_display": false
  }
 },
 "nbformat": 4,
 "nbformat_minor": 2
}
